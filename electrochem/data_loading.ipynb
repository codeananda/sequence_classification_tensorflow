{
 "cells": [
  {
   "cell_type": "markdown",
   "id": "6aecab1a",
   "metadata": {
    "gradient": {
     "editing": false
    }
   },
   "source": [
    "# Data Loading"
   ]
  },
  {
   "cell_type": "code",
   "execution_count": 7,
   "metadata": {},
   "outputs": [],
   "source": [
    "import os\n",
    "os.chdir('electrochemistry_sean_mcintosh/electrochem')"
   ]
  },
  {
   "cell_type": "code",
   "execution_count": 8,
   "metadata": {},
   "outputs": [
    {
     "output_type": "stream",
     "name": "stdout",
     "text": [
      "__pycache__\t\t\t     transform_excel_files_to_csv.ipynb\ndata.py\t\t\t\t     utils.py\ndata_loading.ipynb\t\t     wandb\ndata_plots.ipynb\t\t     waylon_constants.py\npaperspace_setup.sh\t\t     waylon_generic_utils.py\ntrain_attention.ipynb\t\t     waylon_keras_utils.py\ntrain_lstm.ipynb\t\t     waylon_layer_utils.py\ntransform_csvs_to_keras_input.ipynb\n"
     ]
    }
   ],
   "source": [
    "!ls"
   ]
  },
  {
   "cell_type": "code",
   "execution_count": 9,
   "id": "9d55a974",
   "metadata": {
    "ExecuteTime": {
     "end_time": "2021-04-29T09:50:22.077645Z",
     "start_time": "2021-04-29T09:50:20.033263Z"
    },
    "gradient": {}
   },
   "outputs": [],
   "source": [
    "import numpy as np\n",
    "import pandas as pd\n",
    "import matplotlib.pyplot as plt\n",
    "import pickle\n",
    "from pathlib import Path\n",
    "import seaborn as sns\n",
    "from tqdm.notebook import trange, tqdm\n",
    "import wandb\n",
    "\n",
    "sns.set()\n",
    "\n",
    "DATA_DIR = Path('../data')\n",
    "\n",
    "# Do not read in 'Mix 1' sheet, as that has been updated in 'mix_1_updated.xlsx'\n",
    "sheet_names = ['Seawater - No Heavy Metals', 'Copper', 'Cadmium', 'Lead']\n",
    "xcel = pd.read_excel(DATA_DIR / 'main.xlsx', sheet_name=sheet_names)\n",
    "# Read in updated mix sheet\n",
    "mix = pd.read_excel(DATA_DIR / 'mix_1_updated.xlsx')\n",
    "\n",
    "seawater = xcel['Seawater - No Heavy Metals']\n",
    "copper = xcel['Copper']\n",
    "cadmium = xcel['Cadmium']\n",
    "lead = xcel['Lead']"
   ]
  },
  {
   "cell_type": "code",
   "execution_count": null,
   "id": "3e8532ef",
   "metadata": {
    "ExecuteTime": {
     "end_time": "2021-04-29T09:50:23.351748Z",
     "start_time": "2021-04-29T09:50:23.347040Z"
    },
    "gradient": {}
   },
   "outputs": [],
   "source": [
    "seawater['label'] = 'Sw'\n",
    "seawater = seawater.drop(['Unnamed: 0', 'Unnamed: 1', 'Unnamed: 2'], axis=1)"
   ]
  },
  {
   "cell_type": "code",
   "execution_count": null,
   "id": "4e51d81c",
   "metadata": {
    "ExecuteTime": {
     "end_time": "2021-04-29T09:50:31.666865Z",
     "start_time": "2021-04-29T09:50:31.636946Z"
    },
    "gradient": {}
   },
   "outputs": [
    {
     "data": {
      "text/html": [
       "<div>\n",
       "<style scoped>\n",
       "    .dataframe tbody tr th:only-of-type {\n",
       "        vertical-align: middle;\n",
       "    }\n",
       "\n",
       "    .dataframe tbody tr th {\n",
       "        vertical-align: top;\n",
       "    }\n",
       "\n",
       "    .dataframe thead th {\n",
       "        text-align: right;\n",
       "    }\n",
       "</style>\n",
       "<table border=\"1\" class=\"dataframe\">\n",
       "  <thead>\n",
       "    <tr style=\"text-align: right;\">\n",
       "      <th></th>\n",
       "      <th>1</th>\n",
       "      <th>0.996</th>\n",
       "      <th>0.992</th>\n",
       "      <th>0.988</th>\n",
       "      <th>0.984</th>\n",
       "      <th>0.98</th>\n",
       "      <th>0.976</th>\n",
       "      <th>0.972</th>\n",
       "      <th>0.968</th>\n",
       "      <th>0.964</th>\n",
       "      <th>...</th>\n",
       "      <th>0.968.1</th>\n",
       "      <th>0.972.1</th>\n",
       "      <th>0.976.1</th>\n",
       "      <th>0.98.1</th>\n",
       "      <th>0.984.1</th>\n",
       "      <th>0.988.1</th>\n",
       "      <th>0.992.1</th>\n",
       "      <th>0.996.1</th>\n",
       "      <th>1.1</th>\n",
       "      <th>label</th>\n",
       "    </tr>\n",
       "  </thead>\n",
       "  <tbody>\n",
       "    <tr>\n",
       "      <th>0</th>\n",
       "      <td>-0.693472</td>\n",
       "      <td>-0.674730</td>\n",
       "      <td>-0.718462</td>\n",
       "      <td>-0.649740</td>\n",
       "      <td>-0.693472</td>\n",
       "      <td>-0.637245</td>\n",
       "      <td>-0.674730</td>\n",
       "      <td>-0.624750</td>\n",
       "      <td>-0.662235</td>\n",
       "      <td>-0.618502</td>\n",
       "      <td>...</td>\n",
       "      <td>4.410735</td>\n",
       "      <td>4.454467</td>\n",
       "      <td>4.573170</td>\n",
       "      <td>4.610655</td>\n",
       "      <td>4.748100</td>\n",
       "      <td>4.779337</td>\n",
       "      <td>4.923030</td>\n",
       "      <td>4.966762</td>\n",
       "      <td>5.110455</td>\n",
       "      <td>Sw</td>\n",
       "    </tr>\n",
       "    <tr>\n",
       "      <th>1</th>\n",
       "      <td>-0.312375</td>\n",
       "      <td>-0.274890</td>\n",
       "      <td>-0.306127</td>\n",
       "      <td>-0.256147</td>\n",
       "      <td>-0.281137</td>\n",
       "      <td>-0.249900</td>\n",
       "      <td>-0.274890</td>\n",
       "      <td>-0.237405</td>\n",
       "      <td>-0.274890</td>\n",
       "      <td>-0.206167</td>\n",
       "      <td>...</td>\n",
       "      <td>3.461115</td>\n",
       "      <td>3.561075</td>\n",
       "      <td>3.642292</td>\n",
       "      <td>3.767242</td>\n",
       "      <td>3.842212</td>\n",
       "      <td>3.992152</td>\n",
       "      <td>4.060875</td>\n",
       "      <td>4.223310</td>\n",
       "      <td>4.298280</td>\n",
       "      <td>Sw</td>\n",
       "    </tr>\n",
       "    <tr>\n",
       "      <th>2</th>\n",
       "      <td>-0.574770</td>\n",
       "      <td>-0.637245</td>\n",
       "      <td>-0.562275</td>\n",
       "      <td>-0.606007</td>\n",
       "      <td>-0.531037</td>\n",
       "      <td>-0.581017</td>\n",
       "      <td>-0.506047</td>\n",
       "      <td>-0.556027</td>\n",
       "      <td>-0.487305</td>\n",
       "      <td>-0.537285</td>\n",
       "      <td>...</td>\n",
       "      <td>3.854707</td>\n",
       "      <td>3.985905</td>\n",
       "      <td>4.092112</td>\n",
       "      <td>4.198320</td>\n",
       "      <td>4.304527</td>\n",
       "      <td>4.435725</td>\n",
       "      <td>4.573170</td>\n",
       "      <td>4.704367</td>\n",
       "      <td>4.860555</td>\n",
       "      <td>Sw</td>\n",
       "    </tr>\n",
       "  </tbody>\n",
       "</table>\n",
       "<p>3 rows × 1003 columns</p>\n",
       "</div>"
      ],
      "text/plain": [
       "          1     0.996     0.992     0.988     0.984      0.98     0.976  \\\n",
       "0 -0.693472 -0.674730 -0.718462 -0.649740 -0.693472 -0.637245 -0.674730   \n",
       "1 -0.312375 -0.274890 -0.306127 -0.256147 -0.281137 -0.249900 -0.274890   \n",
       "2 -0.574770 -0.637245 -0.562275 -0.606007 -0.531037 -0.581017 -0.506047   \n",
       "\n",
       "      0.972     0.968     0.964  ...   0.968.1   0.972.1   0.976.1    0.98.1  \\\n",
       "0 -0.624750 -0.662235 -0.618502  ...  4.410735  4.454467  4.573170  4.610655   \n",
       "1 -0.237405 -0.274890 -0.206167  ...  3.461115  3.561075  3.642292  3.767242   \n",
       "2 -0.556027 -0.487305 -0.537285  ...  3.854707  3.985905  4.092112  4.198320   \n",
       "\n",
       "    0.984.1   0.988.1   0.992.1   0.996.1       1.1  label  \n",
       "0  4.748100  4.779337  4.923030  4.966762  5.110455     Sw  \n",
       "1  3.842212  3.992152  4.060875  4.223310  4.298280     Sw  \n",
       "2  4.304527  4.435725  4.573170  4.704367  4.860555     Sw  \n",
       "\n",
       "[3 rows x 1003 columns]"
      ]
     },
     "execution_count": 11,
     "metadata": {},
     "output_type": "execute_result"
    }
   ],
   "source": [
    "seawater.head(3)"
   ]
  },
  {
   "cell_type": "code",
   "execution_count": null,
   "id": "17367efd",
   "metadata": {
    "ExecuteTime": {
     "end_time": "2021-04-29T09:53:45.878027Z",
     "start_time": "2021-04-29T09:53:45.871769Z"
    },
    "gradient": {}
   },
   "outputs": [],
   "source": [
    "copper['label'] = 'Cu'\n",
    "cadmium['label'] = 'Cd'\n",
    "lead['label'] = 'Pb'"
   ]
  },
  {
   "cell_type": "code",
   "execution_count": null,
   "id": "05f841d2",
   "metadata": {
    "ExecuteTime": {
     "end_time": "2021-04-29T09:57:17.946684Z",
     "start_time": "2021-04-29T09:57:17.942315Z"
    },
    "gradient": {}
   },
   "outputs": [
    {
     "data": {
      "text/plain": [
       "Index([   'Unnamed: 0',       'Analyte', 'Concentration',               1,\n",
       "                 0.996,           0.992,           0.988,           0.984,\n",
       "                  0.98,           0.976,\n",
       "       ...\n",
       "             '0.968.1',       '0.972.1',       '0.976.1',        '0.98.1',\n",
       "             '0.984.1',       '0.988.1',       '0.992.1',       '0.996.1',\n",
       "                 '1.1',         'label'],\n",
       "      dtype='object', length=1006)"
      ]
     },
     "execution_count": 29,
     "metadata": {},
     "output_type": "execute_result"
    }
   ],
   "source": [
    "lead.columns"
   ]
  },
  {
   "cell_type": "code",
   "execution_count": null,
   "id": "6b6a434d",
   "metadata": {
    "ExecuteTime": {
     "end_time": "2021-04-29T09:57:37.864592Z",
     "start_time": "2021-04-29T09:57:37.852153Z"
    },
    "gradient": {}
   },
   "outputs": [],
   "source": [
    "copper = copper.drop(['Unnamed: 0', 'Unnamed: 1', 'Concentration'], axis=1)\n",
    "cadmium = cadmium.drop(['Unnamed: 0', 'Analyte', 'Concentration'], axis=1)\n",
    "lead = lead.drop(['Unnamed: 0', 'Analyte', 'Concentration'], axis=1)"
   ]
  },
  {
   "cell_type": "code",
   "execution_count": null,
   "id": "a67bcc15",
   "metadata": {
    "ExecuteTime": {
     "end_time": "2021-04-29T09:58:16.445355Z",
     "start_time": "2021-04-29T09:58:16.441585Z"
    },
    "gradient": {}
   },
   "outputs": [
    {
     "name": "stdout",
     "output_type": "stream",
     "text": [
      "(23, 1003)\n",
      "(36, 1003)\n",
      "(36, 1003)\n",
      "(80, 1003)\n"
     ]
    }
   ],
   "source": [
    "dfs = [copper, cadmium, lead, seawater]\n",
    "for df in dfs:\n",
    "    print(df.shape)"
   ]
  },
  {
   "cell_type": "code",
   "execution_count": null,
   "id": "a7105787",
   "metadata": {
    "ExecuteTime": {
     "end_time": "2021-04-29T10:03:34.227064Z",
     "start_time": "2021-04-29T10:03:34.222253Z"
    },
    "gradient": {}
   },
   "outputs": [],
   "source": [
    "df = pd.concat(dfs, ignore_index=True)"
   ]
  },
  {
   "cell_type": "code",
   "execution_count": null,
   "id": "1144c138",
   "metadata": {
    "ExecuteTime": {
     "end_time": "2021-04-29T10:04:01.637324Z",
     "start_time": "2021-04-29T10:04:01.553753Z"
    },
    "gradient": {}
   },
   "outputs": [
    {
     "data": {
      "text/plain": [
       "Sw    0.457143\n",
       "Pb    0.205714\n",
       "Cd    0.205714\n",
       "Cu    0.131429\n",
       "Name: label, dtype: float64"
      ]
     },
     "execution_count": 40,
     "metadata": {},
     "output_type": "execute_result"
    }
   ],
   "source": [
    "df.label.value_counts(normalize=True)"
   ]
  },
  {
   "cell_type": "code",
   "execution_count": null,
   "id": "c260228d",
   "metadata": {
    "ExecuteTime": {
     "end_time": "2021-04-29T10:07:12.917751Z",
     "start_time": "2021-04-29T10:07:12.890365Z"
    },
    "gradient": {}
   },
   "outputs": [
    {
     "data": {
      "text/html": [
       "<div>\n",
       "<style scoped>\n",
       "    .dataframe tbody tr th:only-of-type {\n",
       "        vertical-align: middle;\n",
       "    }\n",
       "\n",
       "    .dataframe tbody tr th {\n",
       "        vertical-align: top;\n",
       "    }\n",
       "\n",
       "    .dataframe thead th {\n",
       "        text-align: right;\n",
       "    }\n",
       "</style>\n",
       "<table border=\"1\" class=\"dataframe\">\n",
       "  <thead>\n",
       "    <tr style=\"text-align: right;\">\n",
       "      <th></th>\n",
       "      <th>1</th>\n",
       "      <th>0.996</th>\n",
       "      <th>0.992</th>\n",
       "      <th>0.988</th>\n",
       "      <th>0.984</th>\n",
       "      <th>0.98</th>\n",
       "      <th>0.976</th>\n",
       "      <th>0.972</th>\n",
       "      <th>0.968</th>\n",
       "      <th>0.964</th>\n",
       "      <th>...</th>\n",
       "      <th>0.968.1</th>\n",
       "      <th>0.972.1</th>\n",
       "      <th>0.976.1</th>\n",
       "      <th>0.98.1</th>\n",
       "      <th>0.984.1</th>\n",
       "      <th>0.988.1</th>\n",
       "      <th>0.992.1</th>\n",
       "      <th>0.996.1</th>\n",
       "      <th>1.1</th>\n",
       "      <th>label</th>\n",
       "    </tr>\n",
       "  </thead>\n",
       "  <tbody>\n",
       "    <tr>\n",
       "      <th>0</th>\n",
       "      <td>-3.225950</td>\n",
       "      <td>-3.350025</td>\n",
       "      <td>-3.350025</td>\n",
       "      <td>-3.350025</td>\n",
       "      <td>-3.350025</td>\n",
       "      <td>-3.287988</td>\n",
       "      <td>-3.350025</td>\n",
       "      <td>-3.287988</td>\n",
       "      <td>-3.350025</td>\n",
       "      <td>-3.287988</td>\n",
       "      <td>...</td>\n",
       "      <td>8.809325</td>\n",
       "      <td>8.933400</td>\n",
       "      <td>8.995438</td>\n",
       "      <td>9.119513</td>\n",
       "      <td>9.243588</td>\n",
       "      <td>9.367663</td>\n",
       "      <td>9.491738</td>\n",
       "      <td>9.615813</td>\n",
       "      <td>9.739888</td>\n",
       "      <td>Cu</td>\n",
       "    </tr>\n",
       "    <tr>\n",
       "      <th>1</th>\n",
       "      <td>-4.032438</td>\n",
       "      <td>-4.094475</td>\n",
       "      <td>-4.094475</td>\n",
       "      <td>-4.094475</td>\n",
       "      <td>-4.094475</td>\n",
       "      <td>-4.094475</td>\n",
       "      <td>-4.094475</td>\n",
       "      <td>-4.032438</td>\n",
       "      <td>-4.032438</td>\n",
       "      <td>-4.156513</td>\n",
       "      <td>...</td>\n",
       "      <td>5.955600</td>\n",
       "      <td>6.079675</td>\n",
       "      <td>6.203750</td>\n",
       "      <td>6.265788</td>\n",
       "      <td>6.389863</td>\n",
       "      <td>6.451900</td>\n",
       "      <td>6.700050</td>\n",
       "      <td>6.700050</td>\n",
       "      <td>6.886163</td>\n",
       "      <td>Cu</td>\n",
       "    </tr>\n",
       "    <tr>\n",
       "      <th>2</th>\n",
       "      <td>-0.496300</td>\n",
       "      <td>-0.558338</td>\n",
       "      <td>-0.558338</td>\n",
       "      <td>-0.496300</td>\n",
       "      <td>-0.558338</td>\n",
       "      <td>-0.496300</td>\n",
       "      <td>-0.558338</td>\n",
       "      <td>-0.434263</td>\n",
       "      <td>-0.558338</td>\n",
       "      <td>-0.496300</td>\n",
       "      <td>...</td>\n",
       "      <td>3.536138</td>\n",
       "      <td>3.536138</td>\n",
       "      <td>3.660213</td>\n",
       "      <td>3.722250</td>\n",
       "      <td>3.846325</td>\n",
       "      <td>3.846325</td>\n",
       "      <td>4.094475</td>\n",
       "      <td>4.156513</td>\n",
       "      <td>4.280588</td>\n",
       "      <td>Cu</td>\n",
       "    </tr>\n",
       "    <tr>\n",
       "      <th>3</th>\n",
       "      <td>-0.806488</td>\n",
       "      <td>-0.744450</td>\n",
       "      <td>-0.744450</td>\n",
       "      <td>-0.744450</td>\n",
       "      <td>-0.744450</td>\n",
       "      <td>-0.682413</td>\n",
       "      <td>-0.682413</td>\n",
       "      <td>-0.682413</td>\n",
       "      <td>-0.620375</td>\n",
       "      <td>-0.682413</td>\n",
       "      <td>...</td>\n",
       "      <td>3.784288</td>\n",
       "      <td>3.846325</td>\n",
       "      <td>3.970400</td>\n",
       "      <td>4.032438</td>\n",
       "      <td>4.156513</td>\n",
       "      <td>4.280588</td>\n",
       "      <td>4.404663</td>\n",
       "      <td>4.404663</td>\n",
       "      <td>4.590775</td>\n",
       "      <td>Cu</td>\n",
       "    </tr>\n",
       "    <tr>\n",
       "      <th>4</th>\n",
       "      <td>-0.434263</td>\n",
       "      <td>-0.496300</td>\n",
       "      <td>-0.434263</td>\n",
       "      <td>-0.434263</td>\n",
       "      <td>-0.434263</td>\n",
       "      <td>-0.372225</td>\n",
       "      <td>-0.434263</td>\n",
       "      <td>-0.372225</td>\n",
       "      <td>-0.434263</td>\n",
       "      <td>-0.434263</td>\n",
       "      <td>...</td>\n",
       "      <td>2.791688</td>\n",
       "      <td>2.853725</td>\n",
       "      <td>2.853725</td>\n",
       "      <td>2.977800</td>\n",
       "      <td>3.101875</td>\n",
       "      <td>3.163913</td>\n",
       "      <td>3.225950</td>\n",
       "      <td>3.287988</td>\n",
       "      <td>3.412063</td>\n",
       "      <td>Cu</td>\n",
       "    </tr>\n",
       "  </tbody>\n",
       "</table>\n",
       "<p>5 rows × 1003 columns</p>\n",
       "</div>"
      ],
      "text/plain": [
       "          1     0.996     0.992     0.988     0.984      0.98     0.976  \\\n",
       "0 -3.225950 -3.350025 -3.350025 -3.350025 -3.350025 -3.287988 -3.350025   \n",
       "1 -4.032438 -4.094475 -4.094475 -4.094475 -4.094475 -4.094475 -4.094475   \n",
       "2 -0.496300 -0.558338 -0.558338 -0.496300 -0.558338 -0.496300 -0.558338   \n",
       "3 -0.806488 -0.744450 -0.744450 -0.744450 -0.744450 -0.682413 -0.682413   \n",
       "4 -0.434263 -0.496300 -0.434263 -0.434263 -0.434263 -0.372225 -0.434263   \n",
       "\n",
       "      0.972     0.968     0.964  ...   0.968.1   0.972.1   0.976.1    0.98.1  \\\n",
       "0 -3.287988 -3.350025 -3.287988  ...  8.809325  8.933400  8.995438  9.119513   \n",
       "1 -4.032438 -4.032438 -4.156513  ...  5.955600  6.079675  6.203750  6.265788   \n",
       "2 -0.434263 -0.558338 -0.496300  ...  3.536138  3.536138  3.660213  3.722250   \n",
       "3 -0.682413 -0.620375 -0.682413  ...  3.784288  3.846325  3.970400  4.032438   \n",
       "4 -0.372225 -0.434263 -0.434263  ...  2.791688  2.853725  2.853725  2.977800   \n",
       "\n",
       "    0.984.1   0.988.1   0.992.1   0.996.1       1.1  label  \n",
       "0  9.243588  9.367663  9.491738  9.615813  9.739888     Cu  \n",
       "1  6.389863  6.451900  6.700050  6.700050  6.886163     Cu  \n",
       "2  3.846325  3.846325  4.094475  4.156513  4.280588     Cu  \n",
       "3  4.156513  4.280588  4.404663  4.404663  4.590775     Cu  \n",
       "4  3.101875  3.163913  3.225950  3.287988  3.412063     Cu  \n",
       "\n",
       "[5 rows x 1003 columns]"
      ]
     },
     "execution_count": 44,
     "metadata": {},
     "output_type": "execute_result"
    }
   ],
   "source": [
    "df.head()"
   ]
  },
  {
   "cell_type": "code",
   "execution_count": null,
   "id": "922ac16a",
   "metadata": {
    "ExecuteTime": {
     "end_time": "2021-04-29T10:08:58.209170Z",
     "start_time": "2021-04-29T10:08:58.018646Z"
    },
    "gradient": {}
   },
   "outputs": [],
   "source": [
    "df.to_csv(DATA_DIR / 'four_class_dataset.csv')"
   ]
  },
  {
   "cell_type": "code",
   "execution_count": null,
   "id": "1c43c879",
   "metadata": {
    "ExecuteTime": {
     "end_time": "2021-04-29T10:07:04.857511Z",
     "start_time": "2021-04-29T10:07:04.852548Z"
    },
    "gradient": {}
   },
   "outputs": [],
   "source": [
    "X = df.iloc[:, :-1].values\n",
    "y = df.iloc[:, -1].values"
   ]
  },
  {
   "cell_type": "code",
   "execution_count": null,
   "id": "61d99d93",
   "metadata": {
    "ExecuteTime": {
     "end_time": "2021-04-29T10:11:30.182883Z",
     "start_time": "2021-04-29T10:11:30.178676Z"
    },
    "gradient": {}
   },
   "outputs": [
    {
     "data": {
      "text/plain": [
       "(175, 1003)"
      ]
     },
     "execution_count": 52,
     "metadata": {},
     "output_type": "execute_result"
    }
   ],
   "source": [
    "df.shape"
   ]
  }
 ],
 "metadata": {
  "kernelspec": {
   "display_name": "Python 3",
   "language": "python",
   "name": "python3"
  },
  "toc": {
   "base_numbering": 1,
   "nav_menu": {},
   "number_sections": true,
   "sideBar": true,
   "skip_h1_title": false,
   "title_cell": "Table of Contents",
   "title_sidebar": "Contents",
   "toc_cell": false,
   "toc_position": {},
   "toc_section_display": true,
   "toc_window_display": false
  },
  "varInspector": {
   "cols": {
    "lenName": 16,
    "lenType": 16,
    "lenVar": 40
   },
   "kernels_config": {
    "python": {
     "delete_cmd_postfix": "",
     "delete_cmd_prefix": "del ",
     "library": "var_list.py",
     "varRefreshCmd": "print(var_dic_list())"
    },
    "r": {
     "delete_cmd_postfix": ") ",
     "delete_cmd_prefix": "rm(",
     "library": "var_list.r",
     "varRefreshCmd": "cat(var_dic_list()) "
    }
   },
   "types_to_exclude": [
    "module",
    "function",
    "builtin_function_or_method",
    "instance",
    "_Feature"
   ],
   "window_display": false
  }
 },
 "nbformat": 4,
 "nbformat_minor": 5
}